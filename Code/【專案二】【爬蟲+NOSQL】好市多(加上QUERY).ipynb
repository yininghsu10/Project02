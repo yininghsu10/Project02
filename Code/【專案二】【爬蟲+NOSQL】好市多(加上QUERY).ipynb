{
 "cells": [
  {
   "cell_type": "code",
   "execution_count": null,
   "id": "7f8bde1a",
   "metadata": {},
   "outputs": [],
   "source": [
    "#用selenium+webdriver\n",
    "import requests\n",
    "from bs4 import BeautifulSoup\n",
    "from selenium import webdriver\n",
    "from selenium.webdriver.chrome.options import Options\n",
    "import time \n",
    "import random\n",
    "\n",
    "#隱藏瀏覽視窗不跳出\n",
    "chrome_options = Options()\n",
    "chrome_options.add_argument(\"--headless\")\n",
    "driver = webdriver.Chrome(executable_path = 'C:\\\\Users\\\\liuan\\\\chromedriver.exe',options=chrome_options)\n",
    "\n",
    "# driver=webdriver.Chrome(\"C:\\\\Users\\\\liuan\\\\chromedriver.exe\",options=option)\n",
    "driver.get(\"https://www.costco.com.tw/c/CLWH?q=:relevance:category:WH1205:category:WH1201:category:WH0806:category:WH1202:category:WH0811:category:WH1203:category:WH0808:category:WH1204:category:WH0810:category:WH0809:category:WH0807\")\n",
    "#讓頁面自動往下滑\n",
    "driver.execute_script(\"window,scrollTo(0,document.body.scrollHeight)\")\n",
    "time.sleep(5)\n",
    "soup = BeautifulSoup(driver.page_source,\"html.parser\")\n",
    "\n",
    "# for commodity2 in soup.find_all(\"div\",class_=\"flash-sale-items\")[0].find_all(\"div\",class_=\"flash-sale-item-card__item-name flash-sale-item-card__item-name-extra-discount\"):\n",
    "#     product=name.div.text\n",
    "#     print(product)\n",
    "\n",
    "for commodity2 in soup.find_all(\"ul\",class_=\"product-listing product-grid\")[0].find_all(\"li\",class_=\"product-list-item product-list-item--grid vline ng-star-inserted\"):\n",
    "    #商品名稱\n",
    "    a=commodity2.find_all(\"a\",class_=\"lister-name js-lister-name\")[0].text\n",
    "    #網址\n",
    "    c=\"https://www.costco.com.tw/\"+commodity2.a[\"href\"]\n",
    "    print(a)\n",
    "    print(c)\n",
    "    print('-------------------')\n",
    "\n",
    "time.sleep(random.randint(1,3))"
   ]
  }
 ],
 "metadata": {
  "kernelspec": {
   "display_name": "Python 3 (ipykernel)",
   "language": "python",
   "name": "python3"
  },
  "language_info": {
   "codemirror_mode": {
    "name": "ipython",
    "version": 3
   },
   "file_extension": ".py",
   "mimetype": "text/x-python",
   "name": "python",
   "nbconvert_exporter": "python",
   "pygments_lexer": "ipython3",
   "version": "3.9.7"
  }
 },
 "nbformat": 4,
 "nbformat_minor": 5
}
